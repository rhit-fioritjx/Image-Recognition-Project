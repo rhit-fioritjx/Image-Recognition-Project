{
 "cells": [
  {
   "cell_type": "code",
   "execution_count": 1,
   "id": "b783c2c1-6924-45c5-8fdb-8a253e3e5eb1",
   "metadata": {},
   "outputs": [
    {
     "name": "stderr",
     "output_type": "stream",
     "text": [
      "/tmp/ipykernel_162929/4134392719.py:5: DeprecationWarning: \n",
      "Pyarrow will become a required dependency of pandas in the next major release of pandas (pandas 3.0),\n",
      "(to allow more performant data types, such as the Arrow string type, and better interoperability with other libraries)\n",
      "but was not found to be installed on your system.\n",
      "If this would cause problems for you,\n",
      "please provide us feedback at https://github.com/pandas-dev/pandas/issues/54466\n",
      "        \n",
      "  import pandas as pd\n"
     ]
    }
   ],
   "source": [
    "import os\n",
    "import random\n",
    "\n",
    "import numpy as np\n",
    "import pandas as pd\n",
    "import torch\n",
    "import torch.nn as nn\n",
    "from PIL import Image\n",
    "from sklearn.model_selection import train_test_split\n",
    "from torchvision import transforms\n",
    "from torch.utils.data import DataLoader\n",
    "from torchvision import datasets\n",
    "\n",
    "device = torch.device('cuda:1')\n",
    "# torch.cuda.set_device(7)"
   ]
  },
  {
   "cell_type": "code",
   "execution_count": 2,
   "id": "a449852f-eca2-446b-bd9c-ce97a11b7ae3",
   "metadata": {
    "scrolled": true
   },
   "outputs": [],
   "source": [
    "# # used to unzip files in server\n",
    "# from zipfile import ZipFile\n",
    "# # specifying the zip file name \n",
    "# file_name = \"data_processed.zip\"\n",
    "  \n",
    "# # opening the zip file in READ mode \n",
    "# with ZipFile(file_name, 'r') as zip: \n",
    "#     # printing all the contents of the zip file \n",
    "#     zip.printdir() \n",
    "  \n",
    "#     # extracting all the files \n",
    "#     print('Extracting all the files now...') \n",
    "#     zip.extractall() \n",
    "#     print('Done!') "
   ]
  },
  {
   "cell_type": "code",
   "execution_count": 3,
   "id": "ce73ecb8",
   "metadata": {},
   "outputs": [],
   "source": [
    "random.seed(1)\n",
    "np.random.seed(1)\n",
    "torch.manual_seed(1)\n",
    "torch.backends.cudnn.deterministic = True"
   ]
  },
  {
   "cell_type": "code",
   "execution_count": 4,
   "id": "9dcb392c-d4df-4b4d-aff6-bd0724da133b",
   "metadata": {},
   "outputs": [],
   "source": [
    "def extract_and_split(data_path, ignore_classes=[]):\n",
    "        x_train = []\n",
    "        x_test = []\n",
    "        y_train = []\n",
    "        y_test = []\n",
    "        subfolders = [f.path for f in os.scandir(data_path) if f.is_dir()]\n",
    "        \n",
    "        for subfolder in subfolders:\n",
    "            class_name = subfolder.split('/')[-1]\n",
    "            if class_name in ignore_classes:\n",
    "                continue\n",
    "\n",
    "            files_in_subfolder = [f.path for f in os.scandir(subfolder) if f.is_file() and (f.name.endswith('.jpg') or f.name.endswith('.png'))]\n",
    "\n",
    "            train_files, test_files = train_test_split(files_in_subfolder, train_size=0.8)\n",
    "            x_train += train_files\n",
    "            x_test += test_files\n",
    "            y_train += [class_name] * len(train_files)\n",
    "            y_test += [class_name] * len(test_files)\n",
    "\n",
    "        return x_train, x_test, y_train, y_test"
   ]
  },
  {
   "cell_type": "code",
   "execution_count": 5,
   "id": "01cd07ba-8a05-4991-b43e-84401060565d",
   "metadata": {},
   "outputs": [],
   "source": [
    "x_train1, x_test1, y_train1, y_test1 = extract_and_split(\"./dataset/\", ignore_classes=[])\n",
    "x_train2, x_test2, y_train2, y_test2 = extract_and_split('./data_processed/', ignore_classes=[])\n",
    "x_train = x_train1 + x_train2\n",
    "y_train = y_train1 + y_train2\n",
    "x_test = x_test1 + x_test2\n",
    "y_test = y_test1 + y_test2"
   ]
  },
  {
   "cell_type": "code",
   "execution_count": 6,
   "id": "23e764ff-98ab-4b9d-8191-4c68d555516c",
   "metadata": {},
   "outputs": [],
   "source": [
    "# Map class names to integers\n",
    "all_classes = np.unique(y_train + y_test)\n",
    "mapping = {class_name.item(): idx for idx, class_name in enumerate(all_classes)}\n",
    "rev_mapping = {idx: class_name for class_name, idx in mapping.items()}\n",
    "\n",
    "y_train = torch.tensor([mapping[class_name] for class_name in y_train])\n",
    "y_test = torch.tensor([mapping[class_name] for class_name in y_test])"
   ]
  },
  {
   "cell_type": "code",
   "execution_count": 7,
   "id": "f7d16d82-e202-441f-bbcd-a24aef6fbeda",
   "metadata": {},
   "outputs": [],
   "source": [
    "class MyDataset(torch.utils.data.Dataset):\n",
    "    def __init__(self, img_list, labels, transforms):\n",
    "        super(MyDataset, self).__init__()\n",
    "        self.img_list = img_list\n",
    "        self.labels = labels\n",
    "        self.transforms = transforms\n",
    "\n",
    "    def __len__(self):\n",
    "        return len(self.img_list)\n",
    "\n",
    "    def __getitem__(self, idx):\n",
    "        img = self.img_list[idx]\n",
    "        img = Image.open(img).convert('L')\n",
    "        return self.transforms(img), self.labels[idx]"
   ]
  },
  {
   "cell_type": "code",
   "execution_count": 8,
   "id": "74e36a4d-c58b-4324-91d2-6c54f0e64f1a",
   "metadata": {},
   "outputs": [
    {
     "name": "stdout",
     "output_type": "stream",
     "text": [
      "(155, 135)\n"
     ]
    },
    {
     "data": {
      "image/jpeg": "[encoded data removed]",
      "image/png": "[encoded data removed]",
      "text/plain": [
       "<PIL.JpegImagePlugin.JpegImageFile image mode=RGB size=155x135>"
      ]
     },
     "execution_count": 8,
     "metadata": {},
     "output_type": "execute_result"
    }
   ],
   "source": [
    "img_path = x_train[456]\n",
    "image = Image.open(img_path)\n",
    "print(image.size)\n",
    "image"
   ]
  },
  {
   "cell_type": "code",
   "execution_count": 9,
   "id": "1dbd06b1-ea7b-4a62-8f42-2bcc67523f6f",
   "metadata": {},
   "outputs": [],
   "source": [
    "transform = transforms.Compose([\n",
    "    transforms.Resize((128, 128)),\n",
    "    transforms.ToTensor(),\n",
    "    transforms.Normalize(mean=[0.5], std=[0.5])\n",
    "])\n",
    "train_dataset = MyDataset(x_train, y_train, transform)\n",
    "train_loader = DataLoader(train_dataset, batch_size=64, shuffle=True)\n",
    "test_dataset = MyDataset(x_test, y_test, transform)\n",
    "test_loader = DataLoader(test_dataset, batch_size=64, shuffle=True)"
   ]
  },
  {
   "cell_type": "code",
   "execution_count": 10,
   "id": "80cb142e-ac50-4260-b5b9-bc91bae42655",
   "metadata": {},
   "outputs": [],
   "source": [
    "num_classes = len(np.unique(y_train))"
   ]
  },
  {
   "cell_type": "code",
   "execution_count": 11,
   "id": "e1b583ec-b9c6-4ba2-a454-192be4d5128d",
   "metadata": {},
   "outputs": [],
   "source": [
    "input_channels = 1\n",
    "conv_layers = nn.Sequential(\n",
    "    nn.Conv2d(input_channels, 16, 3, padding=1),\n",
    "    nn.ReLU(),\n",
    "    nn.Conv2d(16, 32, 3, padding=1),\n",
    "    nn.ReLU(),\n",
    "    nn.Conv2d(32, 64, 3, padding=1),\n",
    "    nn.ReLU()\n",
    ")\n",
    "\n",
    "# Calculate the size of the output of the conv_layers by doing one forward pass\n",
    "dummy_input = torch.randn(1, input_channels, 128, 128)\n",
    "output = conv_layers(dummy_input)\n",
    "conv_out = output.shape[1] * output.shape[2] * output.shape[3]\n",
    "\n",
    "model = nn.Sequential(\n",
    "    conv_layers,\n",
    "    nn.Flatten(),\n",
    "    nn.Linear(conv_out, 128),\n",
    "    nn.ReLU(),\n",
    "    nn.Linear(128, 128),\n",
    "    nn.ReLU(),\n",
    "    nn.Linear(128, num_classes)\n",
    ")"
   ]
  },
  {
   "cell_type": "code",
   "execution_count": 12,
   "id": "835fd8a3-0a75-4bc0-b4a2-bf093f122cb1",
   "metadata": {},
   "outputs": [],
   "source": [
    "epochs = 2\n",
    "optimizer = torch.optim.Adam(model.parameters(), lr=0.001)\n",
    "loss_fn = nn.CrossEntropyLoss()"
   ]
  },
  {
   "cell_type": "code",
   "execution_count": 13,
   "id": "ed8e1cf1-e048-4be3-a0bd-5eb46428420d",
   "metadata": {},
   "outputs": [],
   "source": [
    "# device = torch.device(\"cuda\" if torch.cuda.is_available() else \"cpu\")"
   ]
  },
  {
   "cell_type": "code",
   "execution_count": 14,
   "id": "b57097f4-420d-4645-b1d2-8177371b5d04",
   "metadata": {},
   "outputs": [
    {
     "data": {
      "text/plain": [
       "Sequential(\n",
       "  (0): Sequential(\n",
       "    (0): Conv2d(1, 16, kernel_size=(3, 3), stride=(1, 1), padding=(1, 1))\n",
       "    (1): ReLU()\n",
       "    (2): Conv2d(16, 32, kernel_size=(3, 3), stride=(1, 1), padding=(1, 1))\n",
       "    (3): ReLU()\n",
       "    (4): Conv2d(32, 64, kernel_size=(3, 3), stride=(1, 1), padding=(1, 1))\n",
       "    (5): ReLU()\n",
       "  )\n",
       "  (1): Flatten(start_dim=1, end_dim=-1)\n",
       "  (2): Linear(in_features=1048576, out_features=128, bias=True)\n",
       "  (3): ReLU()\n",
       "  (4): Linear(in_features=128, out_features=128, bias=True)\n",
       "  (5): ReLU()\n",
       "  (6): Linear(in_features=128, out_features=85, bias=True)\n",
       ")"
      ]
     },
     "execution_count": 14,
     "metadata": {},
     "output_type": "execute_result"
    }
   ],
   "source": [
    "device = torch.device('cuda:0')\n",
    "model.to(device)"
   ]
  },
  {
   "cell_type": "code",
   "execution_count": 15,
   "id": "53123343-9f13-44c2-9a62-0705194e0a5d",
   "metadata": {},
   "outputs": [],
   "source": [
    "# load existing model, skip the training block to go straight to testing, remember to ensure that the structure match the .txt file\n",
    "# model.load_state_dict(torch.load(\"data_processed_model8774.pth\"))\n",
    "# model.eval()"
   ]
  },
  {
   "cell_type": "code",
   "execution_count": 16,
   "id": "f372274c-0d96-4b8c-8af4-2a236740fff7",
   "metadata": {},
   "outputs": [
    {
     "name": "stderr",
     "output_type": "stream",
     "text": [
      "/tmp/ipykernel_162929/2846701550.py:28: UserWarning: To copy construct from a tensor, it is recommended to use sourceTensor.clone().detach() or sourceTensor.clone().detach().requires_grad_(True), rather than torch.tensor(sourceTensor).\n",
      "  inputs, labels = inputs.to(device), torch.tensor(labels).to(device)\n"
     ]
    },
    {
     "name": "stdout",
     "output_type": "stream",
     "text": [
      "Epoch [1/2], Train Loss: 0.9382, Train Accuracy: 0.7615, Test Accuracy: 0.8530\n",
      "Epoch [2/2], Train Loss: 0.3395, Train Accuracy: 0.8995, Test Accuracy: 0.8630\n"
     ]
    }
   ],
   "source": [
    "for epoch in range(epochs):\n",
    "    # Training Phase\n",
    "    model.train()\n",
    "    total_train_loss = 0\n",
    "    total_train_correct = 0\n",
    "    total_test_correct = 0\n",
    "    for inputs, labels in train_loader:\n",
    "        inputs, labels = inputs.to(device), labels.to(device)\n",
    "\n",
    "        # Forward pass\n",
    "        outputs = model(inputs)\n",
    "        loss = loss_fn(outputs, labels)\n",
    "\n",
    "        # Backward pass and optimization\n",
    "        optimizer.zero_grad()\n",
    "        loss.backward()\n",
    "        optimizer.step()\n",
    "\n",
    "        total_train_loss += loss.item()\n",
    "\n",
    "        # Convert outputs probabilities to predicted class\n",
    "        _, predicted = torch.max(outputs, 1)\n",
    "        \n",
    "        # Calculate correct predictions\n",
    "        total_train_correct += (predicted == labels).sum().item()\n",
    "\n",
    "    for inputs, labels in test_loader:\n",
    "        inputs, labels = inputs.to(device), torch.tensor(labels).to(device)\n",
    "\n",
    "        # Forward pass\n",
    "        outputs = model(inputs)\n",
    "\n",
    "        # Compute the loss\n",
    "        loss = loss_fn(outputs, labels)\n",
    "\n",
    "        # Convert outputs probabilities to predicted class\n",
    "        _, predicted = torch.max(outputs, 1)\n",
    "        \n",
    "        # Calculate correct predictions\n",
    "        total_test_correct += (predicted == labels).sum().item()\n",
    "\n",
    "    avg_train_loss = total_train_loss / len(train_loader)\n",
    "    train_accuracy = total_train_correct / len(train_loader.dataset)\n",
    "    test_accuracy = total_test_correct / len(test_loader.dataset)\n",
    "\n",
    "    # Print epoch summary\n",
    "    print(f'Epoch [{epoch+1}/{epochs}], Train Loss: {avg_train_loss:.4f}, Train Accuracy: {train_accuracy:.4f}, Test Accuracy: {test_accuracy:.4f}')"
   ]
  },
  {
   "cell_type": "code",
   "execution_count": 17,
   "id": "47b9fda2-4a00-4f6d-9e58-c1a5ef103c08",
   "metadata": {},
   "outputs": [
    {
     "name": "stderr",
     "output_type": "stream",
     "text": [
      "/tmp/ipykernel_162929/1784268762.py:8: UserWarning: To copy construct from a tensor, it is recommended to use sourceTensor.clone().detach() or sourceTensor.clone().detach().requires_grad_(True), rather than torch.tensor(sourceTensor).\n",
      "  inputs, labels = inputs.to(device), torch.tensor(labels).to(device)\n"
     ]
    },
    {
     "name": "stdout",
     "output_type": "stream",
     "text": [
      "Test Loss: 0.4806, Test Accuracy: 0.8630\n"
     ]
    }
   ],
   "source": [
    "model.eval()\n",
    "\n",
    "total_loss = 0\n",
    "total_correct = 0\n",
    "\n",
    "with torch.no_grad():\n",
    "    for inputs, labels in test_loader:\n",
    "        inputs, labels = inputs.to(device), torch.tensor(labels).to(device)\n",
    "\n",
    "        # Forward pass\n",
    "        outputs = model(inputs)\n",
    "\n",
    "        # Compute the loss\n",
    "        loss = loss_fn(outputs, labels)\n",
    "        total_loss += loss.item()\n",
    "\n",
    "        # Convert outputs probabilities to predicted class\n",
    "        _, predicted = torch.max(outputs, 1)\n",
    "        \n",
    "        # Calculate correct predictions\n",
    "        total_correct += (predicted == labels).sum().item()\n",
    "\n",
    "avg_loss = total_loss / len(test_loader)\n",
    "accuracy = total_correct / len(test_loader.dataset)\n",
    "\n",
    "print(f'Test Loss: {avg_loss:.4f}, Test Accuracy: {accuracy:.4f}')"
   ]
  },
  {
   "cell_type": "code",
   "execution_count": 18,
   "id": "5164a637-63e4-4d11-9157-e4f42006e4ef",
   "metadata": {},
   "outputs": [
    {
     "name": "stdout",
     "output_type": "stream",
     "text": [
      "Predicted: sqrt, Actual: sqrt\n"
     ]
    },
    {
     "data": {
      "image/jpeg": "[encoded data removed]",
      "image/png": "[encoded data removed]",
      "text/plain": [
       "<PIL.Image.Image image mode=L size=128x128>"
      ]
     },
     "execution_count": 18,
     "metadata": {},
     "output_type": "execute_result"
    }
   ],
   "source": [
    "# Get random test image\n",
    "img, label = test_dataset[random.randint(0, len(test_dataset))]\n",
    "\n",
    "pred = model(img.unsqueeze(0).to(device))\n",
    "_, pred = torch.max(pred, 1)\n",
    "print(f\"Predicted: {rev_mapping[pred.item()]}, Actual: {rev_mapping[label.item()]}\")\n",
    "\n",
    "# convert img to PIL image\n",
    "img = img.squeeze(0)\n",
    "img = transforms.ToPILImage()(img)\n",
    "img"
   ]
  },
  {
   "cell_type": "code",
   "execution_count": 20,
   "id": "7afd8460",
   "metadata": {},
   "outputs": [],
   "source": [
    "# save model to file\n",
    "torch.save(model.state_dict(), \"both_dataset_model8630.pth\")"
   ]
  },
  {
   "cell_type": "code",
   "execution_count": null,
   "id": "7f5f7805-b6e5-43c8-b8e0-2747d54b7522",
   "metadata": {},
   "outputs": [],
   "source": []
  }
 ],
 "metadata": {
  "kernelspec": {
   "display_name": "Python (torch)",
   "language": "python",
   "name": "torch"
  },
  "language_info": {
   "codemirror_mode": {
    "name": "ipython",
    "version": 3
   },
   "file_extension": ".py",
   "mimetype": "text/x-python",
   "name": "python",
   "nbconvert_exporter": "python",
   "pygments_lexer": "ipython3",
   "version": "3.12.1"
  }
 },
 "nbformat": 4,
 "nbformat_minor": 5
}
