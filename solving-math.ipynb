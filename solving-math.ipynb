{
 "cells": [
  {
   "cell_type": "code",
   "execution_count": 4,
   "metadata": {},
   "outputs": [],
   "source": [
    "import cv2\n",
    "import numpy as np\n",
    "from PIL import Image\n",
    "import torch\n",
    "import torch.nn as nn\n",
    "import matplotlib.pyplot as plt"
   ]
  },
  {
   "cell_type": "code",
   "execution_count": 2,
   "metadata": {},
   "outputs": [],
   "source": [
    "def get_character_bounding_boxes(img):\n",
    "    gray = cv2.cvtColor(img, cv2.COLOR_BGR2GRAY)\n",
    "    thresh = cv2.threshold(gray, 0, 255,\n",
    "        cv2.THRESH_BINARY_INV | cv2.THRESH_OTSU)[1]\n",
    "    output = cv2.connectedComponentsWithStats(\n",
    "        thresh, 8, cv2.CV_32S)\n",
    "    (numLabels, labels, stats, centroids) = output\n",
    "    new_stats = []\n",
    "    added = [False for i in range(len(stats))]\n",
    "    threshhold = .5\n",
    "    for i in range(1,len(stats)):\n",
    "        if added[i]:\n",
    "            continue\n",
    "\n",
    "        (xi, yi, wi, hi, ai) = stats[i]\n",
    "        for j  in range(i+1,len(stats)):\n",
    "            if added[j]:\n",
    "                continue\n",
    "\n",
    "            (xj, yj, wj, hj, aj) = stats[j]\n",
    "            if xi<=xj:\n",
    "                if xi+wi>=xj+wj:\n",
    "                    hi = max(yi+hi,yj+hj)\n",
    "                    yi = min(yi,yj)\n",
    "                    hi = hi-yi\n",
    "                    ai += aj\n",
    "                    added[j] = True\n",
    "                elif xi+wi>=xj:\n",
    "                    o = xi+wi-xj\n",
    "                    if o/wi>threshhold or o/wj>threshhold:\n",
    "                        wi = xj+wj-xi\n",
    "                        hi = max(yi+hi,yj+hj)\n",
    "                        yi = min(yi,yj)\n",
    "                        hi = hi-yi\n",
    "                        ai += aj\n",
    "                        added[j] = True\n",
    "\n",
    "            if xj<xi:\n",
    "                if xj+wj>=xi+wi:\n",
    "                    xi = xj\n",
    "                    wi = wj\n",
    "                    hi = max(yi+hi,yj+hj)\n",
    "                    yi = min(yi,yj)\n",
    "                    hi = hi-yi\n",
    "                    ai += aj\n",
    "                    added[j] = True\n",
    "                elif xj+wj>=xi:\n",
    "                    o = xj+wj-xi\n",
    "                    if o/wi>threshhold or o/wj>threshhold:\n",
    "                        wi = xj+wj-xi\n",
    "                        hi = max(yi+hi,yj+hj)\n",
    "                        yi = min(yi,yj)\n",
    "                        hi = hi-yi\n",
    "                        ai += aj\n",
    "                        added[j] = True\n",
    "\n",
    "        new_stats.append([xi, yi, wi, hi, ai])\n",
    "        added[i] = True\n",
    "\n",
    "    new_stats = sorted(new_stats, key=lambda x: x[0])\n",
    "    return new_stats\n",
    "\n",
    "def extract_bounding_box(img, bounding_box):\n",
    "    (x, y, w, h, a) = bounding_box\n",
    "    return img[y:y+h, x:x+w]"
   ]
  },
  {
   "cell_type": "code",
   "execution_count": 3,
   "metadata": {},
   "outputs": [],
   "source": [
    "model = torch.load('models/model8432/model8432.pth')"
   ]
  },
  {
   "cell_type": "code",
   "execution_count": null,
   "metadata": {},
   "outputs": [],
   "source": []
  }
 ],
 "metadata": {
  "kernelspec": {
   "display_name": ".env",
   "language": "python",
   "name": "python3"
  },
  "language_info": {
   "codemirror_mode": {
    "name": "ipython",
    "version": 3
   },
   "file_extension": ".py",
   "mimetype": "text/x-python",
   "name": "python",
   "nbconvert_exporter": "python",
   "pygments_lexer": "ipython3",
   "version": "3.11.2"
  }
 },
 "nbformat": 4,
 "nbformat_minor": 2
}
