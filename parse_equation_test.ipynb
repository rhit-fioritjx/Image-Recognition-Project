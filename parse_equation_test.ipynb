{
 "cells": [
  {
   "cell_type": "code",
   "execution_count": 1,
   "metadata": {},
   "outputs": [],
   "source": [
    "import cv2"
   ]
  },
  {
   "cell_type": "code",
   "execution_count": 25,
   "metadata": {},
   "outputs": [],
   "source": [
    "img = cv2.imread('./data_processed/div/9UN_456_em_733.inkml.jpg')"
   ]
  },
  {
   "cell_type": "code",
   "execution_count": 26,
   "metadata": {},
   "outputs": [],
   "source": [
    "gray = cv2.cvtColor(img, cv2.COLOR_BGR2GRAY)\n",
    "thresh = cv2.threshold(gray, 0, 255,\n",
    "\tcv2.THRESH_BINARY_INV | cv2.THRESH_OTSU)[1]"
   ]
  },
  {
   "cell_type": "code",
   "execution_count": 27,
   "metadata": {},
   "outputs": [],
   "source": [
    "output = cv2.connectedComponentsWithStats(\n",
    "\tthresh, 8, cv2.CV_32S)\n",
    "(numLabels, labels, stats, centroids) = output"
   ]
  },
  {
   "cell_type": "code",
   "execution_count": 28,
   "metadata": {},
   "outputs": [
    {
     "data": {
      "text/plain": [
       "array([[     0,      0,    515,    338, 170462],\n",
       "       [   267,     22,     37,     50,    355],\n",
       "       [    30,    121,    457,     51,   2636],\n",
       "       [   297,    224,     56,     93,    617]], dtype=int32)"
      ]
     },
     "execution_count": 28,
     "metadata": {},
     "output_type": "execute_result"
    }
   ],
   "source": [
    "stats"
   ]
  },
  {
   "cell_type": "code",
   "execution_count": 6,
   "metadata": {},
   "outputs": [],
   "source": [
    "## TODO: Make this not crash when you close the windows\n",
    "# for i in range(0, numLabels):\n",
    "#     # if this is the first component then we examine the\n",
    "#     # *background* (typically we would just ignore this\n",
    "#     # component in our loop)\n",
    "#     if i == 0:\n",
    "#         text = \"examining component {}/{} (background)\".format(\n",
    "#             i + 1, numLabels)\n",
    "#     # otherwise, we are examining an actual connected component\n",
    "#     else:\n",
    "#         text = \"examining component {}/{}\".format( i + 1, numLabels)\n",
    "#     # print a status message update for the current connected\n",
    "#     # component\n",
    "#     print(\"[INFO] {}\".format(text))\n",
    "#     # extract the connected component statistics and centroid for\n",
    "#     # the current label\n",
    "#     x = stats[i, cv2.CC_STAT_LEFT]\n",
    "#     y = stats[i, cv2.CC_STAT_TOP]\n",
    "#     w = stats[i, cv2.CC_STAT_WIDTH]\n",
    "#     h = stats[i, cv2.CC_STAT_HEIGHT]\n",
    "#     area = stats[i, cv2.CC_STAT_AREA]\n",
    "#     (cX, cY) = centroids[i]\n",
    "\n",
    "#     output = img.copy()\n",
    "#     cv2.rectangle(output, (x, y), (x + w, y + h), (0, 255, 0), 3)\n",
    "#     cv2.circle(output, (int(cX), int(cY)), 4, (0, 0, 255), -1)\n",
    "#     componentMask = (labels == i).astype(\"uint8\") * 255\n",
    "#     # show our output image and connected component mask\n",
    "#     cv2.imshow(\"Output\", output)\n",
    "#     cv2.imshow(\"Connected Component\", componentMask)\n",
    "#     cv2.waitKey(0)"
   ]
  },
  {
   "cell_type": "code",
   "execution_count": 29,
   "metadata": {},
   "outputs": [
    {
     "name": "stdout",
     "output_type": "stream",
     "text": [
      "(267, 22, 37, 50, 355) (30, 121, 457, 51, 2636)\n",
      "(30, 22, 457, 150, 2991)\n",
      "(30, 22, 457, 150, 2991) (297, 224, 56, 93, 617)\n",
      "(30, 22, 457, 295, 3608)\n"
     ]
    }
   ],
   "source": [
    "new_stats = []\n",
    "added = [False for i in range(len(stats))]\n",
    "threshhold = .5\n",
    "for i in range(1,len(stats)):\n",
    "    if not added[i]:\n",
    "        (xi, yi, wi, hi, ai) = stats[i]\n",
    "        # print((xi, yi, wi, hi, ai))\n",
    "        for j  in range(i+1,len(stats)):\n",
    "            if not added[j]:\n",
    "                (xj, yj, wj, hj, aj) = stats[j]\n",
    "                # print('\\t',(xj, yj, wj, hj, aj))\n",
    "                if xi<=xj:\n",
    "                    if xi+wi>=xj+wj:\n",
    "                        # print((xi, yi, wi, hi, ai),(xj, yj, wj, hj, aj))\n",
    "                        hi = max(yi+hi,yj+hj)\n",
    "                        yi = min(yi,yj)\n",
    "                        hi = hi-yi\n",
    "                        ai += aj\n",
    "                        added[j] = True\n",
    "                        # print((xi, yi, wi, hi, ai))\n",
    "                    elif xi+wi>=xj:\n",
    "                        o = xi+wi-xj\n",
    "                        if o/wi>threshhold or o/wj>threshhold:\n",
    "                            # print((xi, yi, wi, hi, ai),(xj, yj, wj, hj, aj))\n",
    "                            wi = xj+wj-xi\n",
    "                            hi = max(yi+hi,yj+hj)\n",
    "                            yi = min(yi,yj)\n",
    "                            hi = hi-yi\n",
    "                            ai += aj    \n",
    "                            added[j] = True\n",
    "                            # print((xi, yi, wi, hi, ai))\n",
    "                if xj<xi:\n",
    "                    if xj+wj>=xi+wi:\n",
    "                        # print((xi, yi, wi, hi, ai),(xj, yj, wj, hj, aj))\n",
    "                        xi = xj\n",
    "                        wi = wj\n",
    "                        hi = max(yi+hi,yj+hj)\n",
    "                        yi = min(yi,yj)\n",
    "                        hi = hi-yi\n",
    "                        ai += aj\n",
    "                        added[j] = True\n",
    "                        # print((xi, yi, wi, hi, ai))\n",
    "                    elif xj+wj>=xi:\n",
    "                        o = xj+wj-xi\n",
    "                        if o/wi>threshhold or o/wj>threshhold:\n",
    "                            # print((xi, yi, wi, hi, ai),(xj, yj, wj, hj, aj))\n",
    "                            wi = xj+wj-xi\n",
    "                            hi = max(yi+hi,yj+hj)\n",
    "                            yi = min(yi,yj)\n",
    "                            hi = hi-yi\n",
    "                            ai += aj\n",
    "                            added[j] = True\n",
    "                            # print((xi, yi, wi, hi, ai))\n",
    "        new_stats.append([xi, yi, wi, hi, ai])                \n",
    "        added[i] = True"
   ]
  },
  {
   "cell_type": "code",
   "execution_count": 30,
   "metadata": {},
   "outputs": [],
   "source": [
    "for i in range(len(new_stats)):\n",
    "    \n",
    "    x = new_stats[i][0]\n",
    "    y = new_stats[i][1]\n",
    "    w = new_stats[i][2]\n",
    "    h = new_stats[i][3]\n",
    "    area = new_stats[i][4]\n",
    "    # (cX, cY) = centroids[i]\n",
    "\n",
    "    output = img.copy()\n",
    "    cv2.rectangle(output, (x, y), (x + w, y + h), (0, 255, 0), 3)\n",
    "    # cv2.circle(output, (int(cX), int(cY)), 4, (0, 0, 255), -1)\n",
    "    # componentMask = (labels == i).astype(\"uint8\") * 255\n",
    "    # show our output image and connected component mask\n",
    "    cv2.imshow(\"Output\", output)\n",
    "    # cv2.imshow(\"Connected Component\", componentMask)\n",
    "    cv2.waitKey(0)"
   ]
  },
  {
   "cell_type": "code",
   "execution_count": null,
   "metadata": {},
   "outputs": [],
   "source": []
  }
 ],
 "metadata": {
  "kernelspec": {
   "display_name": "ml",
   "language": "python",
   "name": "python3"
  },
  "language_info": {
   "codemirror_mode": {
    "name": "ipython",
    "version": 3
   },
   "file_extension": ".py",
   "mimetype": "text/x-python",
   "name": "python",
   "nbconvert_exporter": "python",
   "pygments_lexer": "ipython3",
   "version": "3.10.9"
  }
 },
 "nbformat": 4,
 "nbformat_minor": 2
}
