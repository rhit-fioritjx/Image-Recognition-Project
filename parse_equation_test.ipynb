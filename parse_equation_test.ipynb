{
 "cells": [
  {
   "cell_type": "code",
   "execution_count": 1,
   "metadata": {},
   "outputs": [],
   "source": [
    "import cv2\n",
    "from matplotlib import pyplot as plt"
   ]
  },
  {
   "cell_type": "code",
   "execution_count": 2,
   "metadata": {},
   "outputs": [],
   "source": [
    "# img = cv2.imread('./data_processed/div/9UN_456_em_733.inkml.jpg')\n",
    "img = cv2.imread('test.png')\n"
   ]
  },
  {
   "cell_type": "code",
   "execution_count": 3,
   "metadata": {},
   "outputs": [],
   "source": [
    "gray = cv2.cvtColor(img, cv2.COLOR_BGR2GRAY)\n",
    "thresh = cv2.threshold(gray, 0, 255,\n",
    "\tcv2.THRESH_BINARY_INV | cv2.THRESH_OTSU)[1]"
   ]
  },
  {
   "cell_type": "code",
   "execution_count": 4,
   "metadata": {},
   "outputs": [],
   "source": [
    "output = cv2.connectedComponentsWithStats(\n",
    "\tthresh, 8, cv2.CV_32S)\n",
    "(numLabels, labels, stats, centroids) = output"
   ]
  },
  {
   "cell_type": "code",
   "execution_count": 5,
   "metadata": {},
   "outputs": [
    {
     "data": {
      "text/plain": [
       "array([[    0,     0,   515,   122, 59753],\n",
       "       [  397,    12,    54,    66,   657],\n",
       "       [  461,    13,    25,    30,   270],\n",
       "       [  234,    23,    42,    46,   482],\n",
       "       [  136,    40,    45,    11,   184],\n",
       "       [   31,    42,    31,    67,   653],\n",
       "       [  276,    47,    52,    28,   450],\n",
       "       [  342,    47,    33,    27,   222],\n",
       "       [  141,    57,    40,     9,   159]], dtype=int32)"
      ]
     },
     "execution_count": 5,
     "metadata": {},
     "output_type": "execute_result"
    }
   ],
   "source": [
    "stats"
   ]
  },
  {
   "cell_type": "code",
   "execution_count": 6,
   "metadata": {},
   "outputs": [],
   "source": [
    "new_stats = []\n",
    "added = [False for i in range(len(stats))]\n",
    "threshhold = .5\n",
    "for i in range(1,len(stats)):\n",
    "    if not added[i]:\n",
    "        (xi, yi, wi, hi, ai) = stats[i]\n",
    "        # print((xi, yi, wi, hi, ai))\n",
    "        for j  in range(i+1,len(stats)):\n",
    "            if not added[j]:\n",
    "                (xj, yj, wj, hj, aj) = stats[j]\n",
    "                # print('\\t',(xj, yj, wj, hj, aj))\n",
    "                if xi<=xj:\n",
    "                    if xi+wi>=xj+wj:\n",
    "                        # print((xi, yi, wi, hi, ai),(xj, yj, wj, hj, aj))\n",
    "                        hi = max(yi+hi,yj+hj)\n",
    "                        yi = min(yi,yj)\n",
    "                        hi = hi-yi\n",
    "                        ai += aj\n",
    "                        added[j] = True\n",
    "                        # print((xi, yi, wi, hi, ai))\n",
    "                    elif xi+wi>=xj:\n",
    "                        o = xi+wi-xj\n",
    "                        if o/wi>threshhold or o/wj>threshhold:\n",
    "                            # print((xi, yi, wi, hi, ai),(xj, yj, wj, hj, aj))\n",
    "                            wi = xj+wj-xi\n",
    "                            hi = max(yi+hi,yj+hj)\n",
    "                            yi = min(yi,yj)\n",
    "                            hi = hi-yi\n",
    "                            ai += aj    \n",
    "                            added[j] = True\n",
    "                            # print((xi, yi, wi, hi, ai))\n",
    "                if xj<xi:\n",
    "                    if xj+wj>=xi+wi:\n",
    "                        # print((xi, yi, wi, hi, ai),(xj, yj, wj, hj, aj))\n",
    "                        xi = xj\n",
    "                        wi = wj\n",
    "                        hi = max(yi+hi,yj+hj)\n",
    "                        yi = min(yi,yj)\n",
    "                        hi = hi-yi\n",
    "                        ai += aj\n",
    "                        added[j] = True\n",
    "                        # print((xi, yi, wi, hi, ai))\n",
    "                    elif xj+wj>=xi:\n",
    "                        o = xj+wj-xi\n",
    "                        if o/wi>threshhold or o/wj>threshhold:\n",
    "                            # print((xi, yi, wi, hi, ai),(xj, yj, wj, hj, aj))\n",
    "                            wi = xj+wj-xi\n",
    "                            hi = max(yi+hi,yj+hj)\n",
    "                            yi = min(yi,yj)\n",
    "                            hi = hi-yi\n",
    "                            ai += aj\n",
    "                            added[j] = True\n",
    "                            # print((xi, yi, wi, hi, ai))\n",
    "        new_stats.append([xi, yi, wi, hi, ai])                \n",
    "        added[i] = True"
   ]
  },
  {
   "cell_type": "code",
   "execution_count": 7,
   "metadata": {},
   "outputs": [
    {
     "data": {
      "image/png": "[encoded data removed]",
      "text/plain": [
       "<Figure size 640x480 with 1 Axes>"
      ]
     },
     "metadata": {},
     "output_type": "display_data"
    }
   ],
   "source": [
    "output = img.copy()\n",
    "for i in range(len(new_stats)):\n",
    "    \n",
    "    x = new_stats[i][0]\n",
    "    y = new_stats[i][1]\n",
    "    w = new_stats[i][2]\n",
    "    h = new_stats[i][3]\n",
    "    area = new_stats[i][4]\n",
    "    # (cX, cY) = centroids[i]\n",
    "\n",
    "    # output = img.copy()\n",
    "    cv2.rectangle(output, (x, y), (x + w, y + h), (0, 255, 0), 3)\n",
    "    # cv2.circle(output, (int(cX), int(cY)), 4, (0, 0, 255), -1)\n",
    "    # componentMask = (labels == i).astype(\"uint8\") * 255\n",
    "    # show our output image and connected component mask\n",
    "plt.imshow(output)\n",
    "plt.show()"
   ]
  },
  {
   "cell_type": "code",
   "execution_count": null,
   "metadata": {},
   "outputs": [],
   "source": []
  }
 ],
 "metadata": {
  "kernelspec": {
   "display_name": "Python 3 (ipykernel)",
   "language": "python",
   "name": "python3"
  },
  "language_info": {
   "codemirror_mode": {
    "name": "ipython",
    "version": 3
   },
   "file_extension": ".py",
   "mimetype": "text/x-python",
   "name": "python",
   "nbconvert_exporter": "python",
   "pygments_lexer": "ipython3",
   "version": "3.11.6"
  }
 },
 "nbformat": 4,
 "nbformat_minor": 4
}
