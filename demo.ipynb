{
 "cells": [
  {
   "cell_type": "markdown",
   "id": "965a8e7d",
   "metadata": {},
   "source": [
    "# Setup Code"
   ]
  },
  {
   "cell_type": "code",
   "execution_count": 1,
   "id": "4d377c86-b79b-4373-9a33-ec74ed0cf196",
   "metadata": {},
   "outputs": [
    {
     "name": "stderr",
     "output_type": "stream",
     "text": [
      "2024-02-15 08:02:39.952513: I tensorflow/core/util/port.cc:113] oneDNN custom operations are on. You may see slightly different numerical results due to floating-point round-off errors from different computation orders. To turn them off, set the environment variable `TF_ENABLE_ONEDNN_OPTS=0`.\n",
      "2024-02-15 08:02:40.017380: E external/local_xla/xla/stream_executor/cuda/cuda_dnn.cc:9261] Unable to register cuDNN factory: Attempting to register factory for plugin cuDNN when one has already been registered\n",
      "2024-02-15 08:02:40.017413: E external/local_xla/xla/stream_executor/cuda/cuda_fft.cc:607] Unable to register cuFFT factory: Attempting to register factory for plugin cuFFT when one has already been registered\n",
      "2024-02-15 08:02:40.019237: E external/local_xla/xla/stream_executor/cuda/cuda_blas.cc:1515] Unable to register cuBLAS factory: Attempting to register factory for plugin cuBLAS when one has already been registered\n",
      "2024-02-15 08:02:40.030074: I tensorflow/core/platform/cpu_feature_guard.cc:182] This TensorFlow binary is optimized to use available CPU instructions in performance-critical operations.\n",
      "To enable the following instructions: AVX2 AVX512F AVX512_VNNI FMA, in other operations, rebuild TensorFlow with the appropriate compiler flags.\n",
      "2024-02-15 08:02:43.885669: W tensorflow/compiler/tf2tensorrt/utils/py_utils.cc:38] TF-TRT Warning: Could not find TensorRT\n"
     ]
    }
   ],
   "source": [
    "import numpy as np\n",
    "import pandas as pd\n",
    "import tensorflow as tf\n",
    "from tensorflow.keras.models import Sequential, load_model\n",
    "from tensorflow.keras.layers import Dense, Flatten, Conv2D, MaxPooling2D\n",
    "from tensorflow.keras.optimizers import Adam\n",
    "from tensorflow.keras.callbacks import ModelCheckpoint, EarlyStopping, TensorBoard\n",
    "from tensorflow.keras import Input, Model\n",
    "import os\n",
    "import cv2\n",
    "from matplotlib import pyplot as plt\n",
    "from pathlib import Path\n",
    "from sklearn.model_selection import train_test_split\n",
    "from sklearn import preprocessing\n",
    "\n",
    "from ipywidgets import Text, Layout, Button\n",
    "from IPython.display import display, Math, update_display\n",
    "from latex2sympy2 import latex2latex\n",
    "import os\n",
    "import torch\n",
    "import evaluate\n",
    "import numpy as np\n",
    "import pandas as pd\n",
    "import glob as glob\n",
    "import torch.optim as optim\n",
    "import matplotlib.pyplot as plt\n",
    "import torchvision.transforms as transforms\n",
    " \n",
    " \n",
    "from PIL import Image\n",
    "from zipfile import ZipFile\n",
    "from tqdm.notebook import tqdm\n",
    "from dataclasses import dataclass\n",
    "from torch.utils.data import Dataset\n",
    "from urllib.request import urlretrieve\n",
    "from transformers import (\n",
    "    VisionEncoderDecoderModel,\n",
    "    TrOCRProcessor,\n",
    "    Seq2SeqTrainer,\n",
    "    Seq2SeqTrainingArguments,\n",
    "    default_data_collator\n",
    ")"
   ]
  },
  {
   "cell_type": "code",
   "execution_count": 2,
   "id": "6ce1cd19",
   "metadata": {},
   "outputs": [],
   "source": [
    "def square(image):\n",
    "    w = image.width\n",
    "    h = image.height\n",
    "    if w<h:\n",
    "        result = Image.new(image.mode, (h, h), (255,255,255))\n",
    "        result.paste(image, (int((h-w)/2), 0))\n",
    "        image = result\n",
    "    elif h<w:\n",
    "        result = Image.new(image.mode, (w, w), (255,255,255))\n",
    "        result.paste(image, (0, int((w-h)/2)))\n",
    "        image = result\n",
    "    return image"
   ]
  },
  {
   "cell_type": "code",
   "execution_count": 3,
   "id": "e8187f17",
   "metadata": {},
   "outputs": [],
   "source": [
    "def seed_everything(seed_value):\n",
    "    np.random.seed(seed_value)\n",
    "    torch.manual_seed(seed_value)\n",
    "    torch.cuda.manual_seed_all(seed_value)\n",
    "    torch.backends.cudnn.deterministic = True\n",
    "    torch.backends.cudnn.benchmark = False\n",
    " \n",
    "seed_everything(42)\n",
    " \n",
    "device = torch.device('cuda:7' if torch.cuda.is_available() else 'cpu')"
   ]
  },
  {
   "cell_type": "code",
   "execution_count": 4,
   "id": "f629dd7d",
   "metadata": {},
   "outputs": [
    {
     "name": "stderr",
     "output_type": "stream",
     "text": [
      "Could not find image processor class in the image processor config or the model config. Loading based on pattern matching with the model's feature extractor configuration. Please open a PR/issue to update `preprocessor_config.json` to use `image_processor_type` instead of `feature_extractor_type`. This warning will be removed in v4.40.\n"
     ]
    }
   ],
   "source": [
    "processor = TrOCRProcessor.from_pretrained('microsoft/trocr-base-handwritten')\n",
    "trained_model = VisionEncoderDecoderModel.from_pretrained('seq2seq_model_printed/checkpoint-'+str(1400)).to(device)"
   ]
  },
  {
   "cell_type": "code",
   "execution_count": 5,
   "id": "cc176039",
   "metadata": {},
   "outputs": [],
   "source": [
    "def ocr(image, processor, model):\n",
    "    \"\"\"\n",
    "    :param image: PIL Image.\n",
    "    :param processor: Huggingface OCR processor.\n",
    "    :param model: Huggingface OCR model.\n",
    " \n",
    " \n",
    "    Returns:\n",
    "        generated_text: the OCR'd text string.\n",
    "    \"\"\"\n",
    "    # We can directly perform OCR on cropped images.\n",
    "    pixel_values = processor(image, return_tensors='pt').pixel_values.to(device)\n",
    "    generated_ids = model.generate(pixel_values)\n",
    "    generated_text = processor.batch_decode(generated_ids, skip_special_tokens=True)[0]\n",
    "    return generated_text"
   ]
  },
  {
   "cell_type": "code",
   "execution_count": 6,
   "id": "6b316fc6-c711-4101-a8bf-393aeab4d5c3",
   "metadata": {},
   "outputs": [],
   "source": [
    "def get_character_bounding_boxes(img):\n",
    "    gray = cv2.cvtColor(img, cv2.COLOR_BGR2GRAY)\n",
    "    thresh = cv2.threshold(gray, 0, 255,\n",
    "        cv2.THRESH_BINARY_INV | cv2.THRESH_OTSU)[1]\n",
    "    output = cv2.connectedComponentsWithStats(\n",
    "        thresh, 8, cv2.CV_32S)\n",
    "    (numLabels, labels, stats, centroids) = output\n",
    "    new_stats = []\n",
    "    added = [False for i in range(len(stats))]\n",
    "    threshhold = .5\n",
    "    for i in range(1,len(stats)):\n",
    "        if added[i]:\n",
    "            continue\n",
    "\n",
    "        (xi, yi, wi, hi, ai) = stats[i]\n",
    "        for j  in range(i+1,len(stats)):\n",
    "            if added[j]:\n",
    "                continue\n",
    "\n",
    "            (xj, yj, wj, hj, aj) = stats[j]\n",
    "            if xi<=xj:\n",
    "                if xi+wi>=xj+wj:\n",
    "                    hi = max(yi+hi,yj+hj)\n",
    "                    yi = min(yi,yj)\n",
    "                    hi = hi-yi\n",
    "                    ai += aj\n",
    "                    added[j] = True\n",
    "                elif xi+wi>=xj:\n",
    "                    o = xi+wi-xj\n",
    "                    if o/wi>threshhold or o/wj>threshhold:\n",
    "                        wi = xj+wj-xi\n",
    "                        hi = max(yi+hi,yj+hj)\n",
    "                        yi = min(yi,yj)\n",
    "                        hi = hi-yi\n",
    "                        ai += aj\n",
    "                        added[j] = True\n",
    "\n",
    "            if xj<xi:\n",
    "                if xj+wj>=xi+wi:\n",
    "                    xi = xj\n",
    "                    wi = wj\n",
    "                    hi = max(yi+hi,yj+hj)\n",
    "                    yi = min(yi,yj)\n",
    "                    hi = hi-yi\n",
    "                    ai += aj\n",
    "                    added[j] = True\n",
    "                elif xj+wj>=xi:\n",
    "                    o = xj+wj-xi\n",
    "                    if o/wi>threshhold or o/wj>threshhold:\n",
    "                        wi = xj+wj-xi\n",
    "                        hi = max(yi+hi,yj+hj)\n",
    "                        yi = min(yi,yj)\n",
    "                        hi = hi-yi\n",
    "                        ai += aj\n",
    "                        added[j] = True\n",
    "\n",
    "        new_stats.append([xi, yi, wi, hi, ai])\n",
    "        added[i] = True\n",
    "\n",
    "    new_stats = sorted(new_stats, key=lambda x: x[0])\n",
    "    return new_stats\n",
    "\n",
    "def binarize_image(img, threshold=127):\n",
    "    img = cv2.cvtColor(img, cv2.COLOR_BGR2GRAY)\n",
    "    \n",
    "    # Apply thresholding with background-foreground inversion\n",
    "    binary_img = cv2.threshold(img, threshold, 1, cv2.THRESH_BINARY_INV)[1]\n",
    "\n",
    "    return binary_img"
   ]
  },
  {
   "cell_type": "code",
   "execution_count": 7,
   "id": "6fae380c-e3a4-45c8-992e-a2b3dea1597c",
   "metadata": {},
   "outputs": [],
   "source": [
    "mapping = {'%': 0, '*': 1, '+': 2, '-': 3, '0': 4, '1': 5, '2': 6, '3': 7, '4': 8, '5': 9, '6': 10, '7': 11, '8': 12, '9': 13, '[': 14, ']': 15}\n",
    "reverse_mapping = {0: '/', 1: '*', 2: '+', 3: '-', 4: '0', 5: '1', 6: '2', 7: '3', 8: '4', 9: '5', 10: '6', 11: '7', 12: '8', 13: '9', 14: '[', 15: ']'}"
   ]
  },
  {
   "cell_type": "code",
   "execution_count": 8,
   "id": "5c29fdad-0f9d-451f-8db6-9de59bffe8ff",
   "metadata": {},
   "outputs": [
    {
     "name": "stderr",
     "output_type": "stream",
     "text": [
      "2024-02-15 08:03:10.329870: I tensorflow/core/common_runtime/gpu/gpu_device.cc:1929] Created device /job:localhost/replica:0/task:0/device:GPU:0 with 17312 MB memory:  -> device: 0, name: Quadro RTX 6000, pci bus id: 0000:1b:00.0, compute capability: 7.5\n",
      "2024-02-15 08:03:10.331722: I tensorflow/core/common_runtime/gpu/gpu_device.cc:1929] Created device /job:localhost/replica:0/task:0/device:GPU:1 with 22994 MB memory:  -> device: 1, name: Quadro RTX 6000, pci bus id: 0000:1c:00.0, compute capability: 7.5\n",
      "2024-02-15 08:03:10.333232: I tensorflow/core/common_runtime/gpu/gpu_device.cc:1929] Created device /job:localhost/replica:0/task:0/device:GPU:2 with 22992 MB memory:  -> device: 2, name: Quadro RTX 6000, pci bus id: 0000:1d:00.0, compute capability: 7.5\n",
      "2024-02-15 08:03:10.334262: I tensorflow/core/common_runtime/gpu/gpu_device.cc:1929] Created device /job:localhost/replica:0/task:0/device:GPU:3 with 22994 MB memory:  -> device: 3, name: Quadro RTX 6000, pci bus id: 0000:1e:00.0, compute capability: 7.5\n",
      "2024-02-15 08:03:10.335812: I tensorflow/core/common_runtime/gpu/gpu_device.cc:1929] Created device /job:localhost/replica:0/task:0/device:GPU:4 with 22994 MB memory:  -> device: 4, name: Quadro RTX 6000, pci bus id: 0000:3d:00.0, compute capability: 7.5\n",
      "2024-02-15 08:03:10.337291: I tensorflow/core/common_runtime/gpu/gpu_device.cc:1929] Created device /job:localhost/replica:0/task:0/device:GPU:5 with 22992 MB memory:  -> device: 5, name: Quadro RTX 6000, pci bus id: 0000:3f:00.0, compute capability: 7.5\n",
      "2024-02-15 08:03:10.338232: I tensorflow/core/common_runtime/gpu/gpu_device.cc:1929] Created device /job:localhost/replica:0/task:0/device:GPU:6 with 22992 MB memory:  -> device: 6, name: Quadro RTX 6000, pci bus id: 0000:40:00.0, compute capability: 7.5\n",
      "2024-02-15 08:03:10.340060: I tensorflow/core/common_runtime/gpu/gpu_device.cc:1929] Created device /job:localhost/replica:0/task:0/device:GPU:7 with 21652 MB memory:  -> device: 7, name: Quadro RTX 6000, pci bus id: 0000:41:00.0, compute capability: 7.5\n"
     ]
    }
   ],
   "source": [
    "model = load_model('./models/fine_tuned_model.keras')"
   ]
  },
  {
   "cell_type": "code",
   "execution_count": 9,
   "id": "c4b64beb-5ac2-4389-b605-b9209c579aa1",
   "metadata": {},
   "outputs": [],
   "source": [
    "def format_input_img(img, bb):\n",
    "    (x, y, w, h, a) = bb\n",
    "    cropped = img[y:y+h, x:x+w]\n",
    "    cropped = cv2.resize(cropped, (28, 28))\n",
    "    return binarize_image(cropped)"
   ]
  },
  {
   "cell_type": "markdown",
   "id": "84991e4a-eb89-4137-bcc8-3188de19873a",
   "metadata": {},
   "source": [
    "### If want to change img path"
   ]
  },
  {
   "cell_type": "code",
   "execution_count": 10,
   "id": "9fb774a7-3060-4c38-814a-879f7671e36f",
   "metadata": {},
   "outputs": [
    {
     "data": {
      "text/plain": [
       "['handwritten-full-test/8+4.jpg',\n",
       " 'handwritten-full-test/1+1.jpg',\n",
       " 'handwritten-full-test/48-88.jpg',\n",
       " 'handwritten-full-test/2x2.jpg',\n",
       " 'handwritten-full-test/67+81-98+10.jpg',\n",
       " 'handwritten-full-test/72_div_2.jpg',\n",
       " 'handwritten-full-test/3x[2+9].jpg',\n",
       " 'handwritten-full-test/123x359.jpg',\n",
       " 'handwritten-full-test/14592_div_2x4-3.jpg']"
      ]
     },
     "execution_count": 10,
     "metadata": {},
     "output_type": "execute_result"
    }
   ],
   "source": [
    "images_dir = 'handwritten-full-test'\n",
    "images = [f.path for f in os.scandir(images_dir)]\n",
    "images"
   ]
  },
  {
   "cell_type": "markdown",
   "id": "80a6c0d9-0d08-48c3-b499-c604d08da337",
   "metadata": {},
   "source": [
    "# DEMO: Our Model"
   ]
  },
  {
   "cell_type": "code",
   "execution_count": 18,
   "id": "d6e42f7b-cd48-4da7-b376-7f49c52ef647",
   "metadata": {},
   "outputs": [
    {
     "data": {
      "image/jpeg": "[encoded data removed]",
      "image/png": "[encoded data removed]",
      "text/plain": [
       "<PIL.Image.Image image mode=RGB size=555x169>"
      ]
     },
     "metadata": {},
     "output_type": "display_data"
    }
   ],
   "source": [
    "from PIL import Image\n",
    "# Good: 0, 1, 2, 5\n",
    "# img = images[6]\n",
    "img = \"demo-images/image0.jpg\"\n",
    "img = cv2.imread(img)\n",
    "bbs = get_character_bounding_boxes(img)\n",
    "display(Image.fromarray(img))"
   ]
  },
  {
   "cell_type": "code",
   "execution_count": 19,
   "id": "102b2ddb-d390-4f76-9231-35629af8c306",
   "metadata": {},
   "outputs": [
    {
     "name": "stdout",
     "output_type": "stream",
     "text": [
      "1/1 [==============================] - 0s 50ms/step\n",
      "2\n",
      "1/1 [==============================] - 0s 39ms/step\n",
      "0\n",
      "1/1 [==============================] - 0s 39ms/step\n",
      "-\n",
      "1/1 [==============================] - 0s 33ms/step\n",
      "3\n",
      "FINAL: 20-3\n"
     ]
    }
   ],
   "source": [
    "count = 0\n",
    "out_str = \"\"\n",
    "for bb in bbs:\n",
    "    char = format_input_img(img, bb)\n",
    "    char = char.reshape(-1, 28, 28, 1) \n",
    "    yh_test = model.predict(char).argmax(axis=1)\n",
    "    out_str += reverse_mapping[yh_test[0]]\n",
    "    print(reverse_mapping[yh_test[0]])\n",
    "print(f\"FINAL: {out_str}\")"
   ]
  },
  {
   "cell_type": "code",
   "execution_count": 20,
   "id": "9262941b-2e7f-4f06-9242-0a680654a132",
   "metadata": {},
   "outputs": [
    {
     "data": {
      "application/vnd.jupyter.widget-view+json": {
       "model_id": "e5186a7927914e0aacb680158d9a49f4",
       "version_major": 2,
       "version_minor": 0
      },
      "text/plain": [
       "Text(value='20-3')"
      ]
     },
     "metadata": {},
     "output_type": "display_data"
    },
    {
     "data": {
      "text/latex": [
       "$\\displaystyle 20-3$"
      ],
      "text/plain": [
       "<IPython.core.display.Math object>"
      ]
     },
     "metadata": {},
     "output_type": "display_data"
    },
    {
     "data": {
      "text/latex": [
       "$\\displaystyle 17$"
      ],
      "text/plain": [
       "<IPython.core.display.Math object>"
      ]
     },
     "metadata": {},
     "output_type": "display_data"
    },
    {
     "data": {
      "image/jpeg": "[encoded data removed]",
      "image/png": "[encoded data removed]",
      "text/plain": [
       "<PIL.Image.Image image mode=RGB size=555x169>"
      ]
     },
     "metadata": {},
     "output_type": "display_data"
    },
    {
     "name": "stdout",
     "output_type": "stream",
     "text": [
      "\n"
     ]
    }
   ],
   "source": [
    "# Display the latex string\n",
    "latex_str = out_str\n",
    "text_box = Text(value=latex_str)\n",
    "latex_math = Math(text_box.value)\n",
    "solve_button = Button(description='Solve', layout=Layout(width='100%'))\n",
    "\n",
    "def solve_latex(change):\n",
    "    try:\n",
    "        out = latex2latex(text_box.value)\n",
    "        update_display(Math(out), display_id='latex_out')\n",
    "    except:\n",
    "        update_display(\"Bad Latex\", display_id='latex_out')\n",
    "\n",
    "def update_latex(change):\n",
    "    update_display(Math(text_box.value), display_id='latex_in')\n",
    "    solve_latex(None)\n",
    "\n",
    "text_box.observe(update_latex, names='value')\n",
    "\n",
    "display(text_box)\n",
    "display(\"\", display_id='latex_in')\n",
    "display(\"\", display_id='latex_out')\n",
    "update_latex(None)\n",
    "display(Image.fromarray(img))\n",
    "print()"
   ]
  },
  {
   "cell_type": "markdown",
   "id": "70261135",
   "metadata": {},
   "source": [
    "# DEMO: TrOCR"
   ]
  },
  {
   "cell_type": "code",
   "execution_count": 21,
   "id": "8520510e",
   "metadata": {},
   "outputs": [],
   "source": [
    "orig_img = \"demo-images/image1.jpg\"\n",
    "orig_img = cv2.imread(orig_img)\n",
    "orig_img = Image.fromarray(orig_img)\n",
    "img = square(orig_img)"
   ]
  },
  {
   "cell_type": "code",
   "execution_count": 22,
   "id": "0c013714",
   "metadata": {},
   "outputs": [
    {
     "data": {
      "text/plain": [
       "<matplotlib.image.AxesImage at 0x7f0d50d66c10>"
      ]
     },
     "execution_count": 22,
     "metadata": {},
     "output_type": "execute_result"
    },
    {
     "data": {
      "image/png": "[encoded data removed]",
      "text/plain": [
       "<Figure size 640x480 with 1 Axes>"
      ]
     },
     "metadata": {},
     "output_type": "display_data"
    }
   ],
   "source": [
    "#TODO: Run model on img and save output into `latex_str`\n",
    "plt.imshow(orig_img)"
   ]
  },
  {
   "cell_type": "code",
   "execution_count": 23,
   "id": "14c5e920",
   "metadata": {},
   "outputs": [],
   "source": [
    "latex_str = ocr(img, processor, trained_model)"
   ]
  },
  {
   "cell_type": "code",
   "execution_count": 24,
   "id": "49602df7",
   "metadata": {},
   "outputs": [
    {
     "data": {
      "application/vnd.jupyter.widget-view+json": {
       "model_id": "e470cc7717a54663904bba3f1839a7db",
       "version_major": 2,
       "version_minor": 0
      },
      "text/plain": [
       "Text(value='$\\\\int \\\\cos x d x$')"
      ]
     },
     "metadata": {},
     "output_type": "display_data"
    },
    {
     "data": {
      "text/latex": [
       "$\\displaystyle \\int \\cos x d x$"
      ],
      "text/plain": [
       "<IPython.core.display.Math object>"
      ]
     },
     "metadata": {},
     "output_type": "display_data"
    },
    {
     "data": {
      "text/latex": [
       "$\\displaystyle \\sin{(x)}$"
      ],
      "text/plain": [
       "<IPython.core.display.Math object>"
      ]
     },
     "metadata": {},
     "output_type": "display_data"
    },
    {
     "name": "stdout",
     "output_type": "stream",
     "text": [
      "\n"
     ]
    },
    {
     "data": {
      "image/png": "[encoded data removed]",
      "text/plain": [
       "<Figure size 640x480 with 1 Axes>"
      ]
     },
     "metadata": {},
     "output_type": "display_data"
    }
   ],
   "source": [
    "from ipywidgets import Text, Layout, Button\n",
    "from IPython.display import display, Math, update_display\n",
    "from latex2sympy2 import latex2latex\n",
    "\n",
    "text_box = Text(value=latex_str)\n",
    "latex_math = Math(text_box.value)\n",
    "solve_button = Button(description='Solve', layout=Layout(width='100%'))\n",
    "\n",
    "def solve_latex(change):\n",
    "    try:\n",
    "        out = latex2latex(text_box.value)\n",
    "        update_display(Math(out), display_id='latex_out')\n",
    "    except:\n",
    "        update_display(\"Bad Latex\", display_id='latex_out')\n",
    "\n",
    "def update_latex(change):\n",
    "    update_display(Math(text_box.value), display_id='latex_in')\n",
    "    solve_latex(None)\n",
    "\n",
    "text_box.observe(update_latex, names='value')\n",
    "\n",
    "display(text_box, clear=True)\n",
    "display(\"\", display_id='latex_in')\n",
    "display(\"\", display_id='latex_out')\n",
    "update_latex(None)\n",
    "plt.imshow(orig_img)\n",
    "print()"
   ]
  },
  {
   "cell_type": "code",
   "execution_count": null,
   "id": "ea374da9",
   "metadata": {},
   "outputs": [],
   "source": []
  }
 ],
 "metadata": {
  "kernelspec": {
   "display_name": "image_rec",
   "language": "python",
   "name": "image_rec"
  },
  "language_info": {
   "codemirror_mode": {
    "name": "ipython",
    "version": 3
   },
   "file_extension": ".py",
   "mimetype": "text/x-python",
   "name": "python",
   "nbconvert_exporter": "python",
   "pygments_lexer": "ipython3",
   "version": "3.11.6"
  }
 },
 "nbformat": 4,
 "nbformat_minor": 5
}
