{
 "cells": [
  {
   "cell_type": "code",
   "execution_count": 1,
   "id": "b783c2c1-6924-45c5-8fdb-8a253e3e5eb1",
   "metadata": {},
   "outputs": [
    {
     "name": "stderr",
     "output_type": "stream",
     "text": [
      "/tmp/ipykernel_1567933/1197018003.py:5: DeprecationWarning: \n",
      "Pyarrow will become a required dependency of pandas in the next major release of pandas (pandas 3.0),\n",
      "(to allow more performant data types, such as the Arrow string type, and better interoperability with other libraries)\n",
      "but was not found to be installed on your system.\n",
      "If this would cause problems for you,\n",
      "please provide us feedback at https://github.com/pandas-dev/pandas/issues/54466\n",
      "        \n",
      "  import pandas as pd\n"
     ]
    }
   ],
   "source": [
    "import os\n",
    "import random\n",
    "\n",
    "import numpy as np\n",
    "import pandas as pd\n",
    "import torch\n",
    "import torch.nn as nn\n",
    "from PIL import Image\n",
    "from sklearn.model_selection import train_test_split\n",
    "from torchvision import transforms\n",
    "from torch.utils.data import DataLoader\n",
    "from torchvision import datasets\n",
    "\n",
    "torch.cuda.set_device(7)"
   ]
  },
  {
   "cell_type": "code",
   "execution_count": 2,
   "id": "ce73ecb8",
   "metadata": {},
   "outputs": [],
   "source": [
    "random.seed(1)\n",
    "np.random.seed(1)\n",
    "torch.manual_seed(1)\n",
    "torch.backends.cudnn.deterministic = True"
   ]
  },
  {
   "cell_type": "code",
   "execution_count": 3,
   "id": "a19be4cd",
   "metadata": {},
   "outputs": [],
   "source": [
    "data_path = './data/handwritten-math-symbols/'"
   ]
  },
  {
   "cell_type": "code",
   "execution_count": 4,
   "id": "9dcb392c-d4df-4b4d-aff6-bd0724da133b",
   "metadata": {},
   "outputs": [],
   "source": [
    "def extract_and_split(data_path, ignore_classes=[]):\n",
    "        x_train = []\n",
    "        x_test = []\n",
    "        y_train = []\n",
    "        y_test = []\n",
    "        subfolders = [f.path for f in os.scandir(data_path) if f.is_dir()]\n",
    "        \n",
    "        for subfolder in subfolders:\n",
    "            class_name = subfolder.split('/')[-1]\n",
    "            if class_name in ignore_classes:\n",
    "                continue\n",
    "\n",
    "            files_in_subfolder = [f.path for f in os.scandir(subfolder) if f.is_file() and not f.name.endswith('.directory')]\n",
    "\n",
    "            train_files, test_files = train_test_split(files_in_subfolder, train_size=0.8)\n",
    "            x_train += train_files\n",
    "            x_test += test_files\n",
    "            y_train += [class_name] * len(train_files)\n",
    "            y_test += [class_name] * len(test_files)\n",
    "\n",
    "        return x_train, x_test, y_train, y_test"
   ]
  },
  {
   "cell_type": "code",
   "execution_count": 5,
   "id": "01cd07ba-8a05-4991-b43e-84401060565d",
   "metadata": {},
   "outputs": [],
   "source": [
    "x_train, x_test, y_train, y_test = extract_and_split(data_path, ignore_classes=['y', 'z'])"
   ]
  },
  {
   "cell_type": "code",
   "execution_count": 6,
   "id": "23e764ff-98ab-4b9d-8191-4c68d555516c",
   "metadata": {},
   "outputs": [],
   "source": [
    "# Map class names to integers\n",
    "all_classes = np.unique(y_train + y_test)\n",
    "mapping = {class_name.item(): idx for idx, class_name in enumerate(all_classes)}\n",
    "rev_mapping = {idx: class_name for class_name, idx in mapping.items()}\n",
    "\n",
    "y_train = torch.tensor([mapping[class_name] for class_name in y_train])\n",
    "y_test = torch.tensor([mapping[class_name] for class_name in y_test])"
   ]
  },
  {
   "cell_type": "code",
   "execution_count": 7,
   "id": "f7d16d82-e202-441f-bbcd-a24aef6fbeda",
   "metadata": {},
   "outputs": [],
   "source": [
    "class MyDataset(torch.utils.data.Dataset):\n",
    "    def __init__(self, img_list, labels, transforms):\n",
    "        super(MyDataset, self).__init__()\n",
    "        self.img_list = img_list\n",
    "        self.labels = labels\n",
    "        self.transforms = transforms\n",
    "\n",
    "    def __len__(self):\n",
    "        return len(self.img_list)\n",
    "\n",
    "    def __getitem__(self, idx):\n",
    "        img = self.img_list[idx]\n",
    "        img = Image.open(img).convert('L')\n",
    "        return self.transforms(img), self.labels[idx]"
   ]
  },
  {
   "cell_type": "code",
   "execution_count": 8,
   "id": "74e36a4d-c58b-4324-91d2-6c54f0e64f1a",
   "metadata": {},
   "outputs": [
    {
     "name": "stdout",
     "output_type": "stream",
     "text": [
      "(155, 135)\n"
     ]
    },
    {
     "data": {
      "image/jpeg": "[encoded data removed]",
      "image/png": "[encoded data removed]",
      "text/plain": [
       "<PIL.JpegImagePlugin.JpegImageFile image mode=RGB size=155x135>"
      ]
     },
     "execution_count": 8,
     "metadata": {},
     "output_type": "execute_result"
    }
   ],
   "source": [
    "img_path = x_train[456]\n",
    "image = Image.open(img_path)\n",
    "print(image.size)\n",
    "image"
   ]
  },
  {
   "cell_type": "code",
   "execution_count": 9,
   "id": "1dbd06b1-ea7b-4a62-8f42-2bcc67523f6f",
   "metadata": {},
   "outputs": [],
   "source": [
    "transform = transforms.Compose([\n",
    "    transforms.Resize((128, 128)),\n",
    "    transforms.ToTensor(),\n",
    "    transforms.Normalize(mean=[0.5], std=[0.5])\n",
    "])\n",
    "train_dataset = MyDataset(x_train, y_train, transform)\n",
    "train_loader = DataLoader(train_dataset, batch_size=64, shuffle=True)\n",
    "test_dataset = MyDataset(x_test, y_test, transform)\n",
    "test_loader = DataLoader(test_dataset, batch_size=64, shuffle=True)"
   ]
  },
  {
   "cell_type": "code",
   "execution_count": 10,
   "id": "80cb142e-ac50-4260-b5b9-bc91bae42655",
   "metadata": {},
   "outputs": [],
   "source": [
    "num_classes = len(np.unique(y_train))"
   ]
  },
  {
   "cell_type": "code",
   "execution_count": 11,
   "id": "e1b583ec-b9c6-4ba2-a454-192be4d5128d",
   "metadata": {},
   "outputs": [],
   "source": [
    "input_channels = 1\n",
    "conv_layers = nn.Sequential(\n",
    "    nn.Conv2d(input_channels, 16, 3, padding=1),\n",
    "    nn.ReLU(),\n",
    "    nn.Conv2d(16, 32, 3, padding=1),\n",
    "    nn.ReLU(),\n",
    "    nn.Conv2d(32, 64, 3, padding=1),\n",
    "    nn.ReLU()\n",
    ")\n",
    "\n",
    "# Calculate the size of the output of the conv_layers by doing one forward pass\n",
    "dummy_input = torch.randn(1, input_channels, 128, 128)\n",
    "output = conv_layers(dummy_input)\n",
    "conv_out = output.shape[1] * output.shape[2] * output.shape[3]\n",
    "\n",
    "model = nn.Sequential(\n",
    "    conv_layers,\n",
    "    nn.Flatten(),\n",
    "    nn.Linear(conv_out, 512),\n",
    "    nn.ReLU(),\n",
    "    nn.Linear(512, 256),\n",
    "    nn.ReLU(),\n",
    "    nn.Linear(256, num_classes)\n",
    ")"
   ]
  },
  {
   "cell_type": "code",
   "execution_count": 12,
   "id": "835fd8a3-0a75-4bc0-b4a2-bf093f122cb1",
   "metadata": {},
   "outputs": [],
   "source": [
    "epochs = 10\n",
    "optimizer = torch.optim.Adam(model.parameters(), lr=0.001)\n",
    "loss_fn = nn.CrossEntropyLoss()"
   ]
  },
  {
   "cell_type": "code",
   "execution_count": 13,
   "id": "cd69c64e-c9d2-41c4-9570-fb9855ec991c",
   "metadata": {},
   "outputs": [
    {
     "name": "stdout",
     "output_type": "stream",
     "text": [
      "Epoch [1/10], Train Loss: 2.2776\n",
      "Epoch [2/10], Train Loss: 0.7385\n",
      "Epoch [3/10], Train Loss: 0.2767\n",
      "Epoch [4/10], Train Loss: 0.0974\n",
      "Epoch [5/10], Train Loss: 0.0403\n",
      "Epoch [6/10], Train Loss: 0.0431\n",
      "Epoch [7/10], Train Loss: 0.0399\n",
      "Epoch [8/10], Train Loss: 0.0327\n",
      "Epoch [9/10], Train Loss: 0.0378\n",
      "Epoch [10/10], Train Loss: 0.0299\n"
     ]
    }
   ],
   "source": [
    "device = torch.device(\"cuda\" if torch.cuda.is_available() else \"cpu\")\n",
    "model.to(device)\n",
    "\n",
    "for epoch in range(epochs):\n",
    "    # Training Phase\n",
    "    model.train()\n",
    "    total_train_loss = 0\n",
    "    for inputs, labels in train_loader:\n",
    "        inputs, labels = inputs.to(device), labels.to(device)\n",
    "\n",
    "        # Forward pass\n",
    "        outputs = model(inputs)\n",
    "        loss = loss_fn(outputs, labels)\n",
    "\n",
    "        # Backward pass and optimization\n",
    "        optimizer.zero_grad()\n",
    "        loss.backward()\n",
    "        optimizer.step()\n",
    "\n",
    "        total_train_loss += loss.item()\n",
    "\n",
    "    avg_train_loss = total_train_loss / len(train_loader)\n",
    "\n",
    "    # Print epoch summary\n",
    "    print(f'Epoch [{epoch+1}/{epochs}], Train Loss: {avg_train_loss:.4f}')"
   ]
  },
  {
   "cell_type": "code",
   "execution_count": 14,
   "id": "47b9fda2-4a00-4f6d-9e58-c1a5ef103c08",
   "metadata": {},
   "outputs": [
    {
     "name": "stderr",
     "output_type": "stream",
     "text": [
      "/tmp/ipykernel_1567933/1784268762.py:8: UserWarning: To copy construct from a tensor, it is recommended to use sourceTensor.clone().detach() or sourceTensor.clone().detach().requires_grad_(True), rather than torch.tensor(sourceTensor).\n",
      "  inputs, labels = inputs.to(device), torch.tensor(labels).to(device)\n"
     ]
    },
    {
     "name": "stdout",
     "output_type": "stream",
     "text": [
      "Test Loss: 0.7808, Test Accuracy: 0.8268\n"
     ]
    }
   ],
   "source": [
    "model.eval()\n",
    "\n",
    "total_loss = 0\n",
    "total_correct = 0\n",
    "\n",
    "with torch.no_grad():\n",
    "    for inputs, labels in test_loader:\n",
    "        inputs, labels = inputs.to(device), torch.tensor(labels).to(device)\n",
    "\n",
    "        # Forward pass\n",
    "        outputs = model(inputs)\n",
    "\n",
    "        # Compute the loss\n",
    "        loss = loss_fn(outputs, labels)\n",
    "        total_loss += loss.item()\n",
    "\n",
    "        # Convert outputs probabilities to predicted class\n",
    "        _, predicted = torch.max(outputs, 1)\n",
    "        \n",
    "        # Calculate correct predictions\n",
    "        total_correct += (predicted == labels).sum().item()\n",
    "\n",
    "avg_loss = total_loss / len(test_loader)\n",
    "accuracy = total_correct / len(test_loader.dataset)\n",
    "\n",
    "print(f'Test Loss: {avg_loss:.4f}, Test Accuracy: {accuracy:.4f}')"
   ]
  },
  {
   "cell_type": "code",
   "execution_count": 15,
   "id": "5164a637-63e4-4d11-9157-e4f42006e4ef",
   "metadata": {},
   "outputs": [
    {
     "name": "stdout",
     "output_type": "stream",
     "text": [
      "Predicted: 6, Actual: 6\n"
     ]
    },
    {
     "data": {
      "image/jpeg": "[encoded data removed]",
      "image/png": "[encoded data removed]",
      "text/plain": [
       "<PIL.Image.Image image mode=L size=128x128>"
      ]
     },
     "execution_count": 15,
     "metadata": {},
     "output_type": "execute_result"
    }
   ],
   "source": [
    "# Get random test image\n",
    "img, label = test_dataset[random.randint(0, len(test_dataset))]\n",
    "\n",
    "pred = model(img.unsqueeze(0).to(device))\n",
    "_, pred = torch.max(pred, 1)\n",
    "print(f\"Predicted: {rev_mapping[pred.item()]}, Actual: {rev_mapping[label.item()]}\")\n",
    "\n",
    "# convert img to PIL image\n",
    "img = img.squeeze(0)\n",
    "img = transforms.ToPILImage()(img)\n",
    "img"
   ]
  },
  {
   "cell_type": "code",
   "execution_count": null,
   "id": "7afd8460",
   "metadata": {},
   "outputs": [],
   "source": []
  }
 ],
 "metadata": {
  "kernelspec": {
   "display_name": "Python 3 (ipykernel)",
   "language": "python",
   "name": "python3"
  },
  "language_info": {
   "codemirror_mode": {
    "name": "ipython",
    "version": 3
   },
   "file_extension": ".py",
   "mimetype": "text/x-python",
   "name": "python",
   "nbconvert_exporter": "python",
   "pygments_lexer": "ipython3",
   "version": "3.11.2"
  }
 },
 "nbformat": 4,
 "nbformat_minor": 5
}
